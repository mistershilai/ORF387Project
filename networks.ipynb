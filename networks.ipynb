{
 "cells": [
  {
   "cell_type": "code",
   "execution_count": 1,
   "metadata": {},
   "outputs": [],
   "source": [
    "import pandas as pd\n",
    "import numpy as np\n",
    "import networkx as nx\n",
    "from sklearn.metrics.pairwise import cosine_similarity\n",
    "\n",
    "df_prescribers = pd.read_csv(\"pa2017.csv\", dtype={'NPI': str})  # 1 row per dr\n",
    "df_drugs = pd.read_csv(\"padrugs2017.csv\", dtype={'NPI': str})  # 1 row per dr/drug\n",
    "df_opioids = pd.read_csv(\"druggeographypa.csv\", dtype={'Gnrc_Name': str})  # classify\n",
    "\n",
    "df_drugs = df_drugs.merge(df_opioids, on=\"Gnrc_Name\", how=\"left\")  # Add opioid classification to drug data\n",
    "df_opioids_only = df_drugs[df_drugs[\"Opioid_Drug_Flag\"] == 'Y']  # Keep only opioid drugs"
   ]
  },
  {
   "cell_type": "code",
   "execution_count": 27,
   "metadata": {},
   "outputs": [
    {
     "name": "stderr",
     "output_type": "stream",
     "text": [
      "/var/folders/0n/fdwzy91j2j38zqkrjnq3yc040000gn/T/ipykernel_23288/1712877063.py:1: DtypeWarning: Columns (8) have mixed types. Specify dtype option on import or set low_memory=False.\n",
      "  codes = pd.read_csv(\"codes.csv\", dtype={'NPI': str}, encoding=\"ISO-8859-1\")\n"
     ]
    },
    {
     "name": "stdout",
     "output_type": "stream",
     "text": [
      "Index(['prodid', 'ndc', 'prodtype', 'propname', 'propsuf', 'npropname',\n",
      "       'dosename', 'routename', 'stmarkdatestr', 'stmarkdate',\n",
      "       'endmarkdatestr', 'endmarkdate', 'markname', 'appnum', 'labelname',\n",
      "       'subname', 'actnumstr', 'actingunit', 'pharmclas', 'deasched',\n",
      "       'ndc_exclude_flag', 'listing_record_certstr', 'listing_record_cert'],\n",
      "      dtype='object')\n",
      "Opioid NDCs extracted and saved as 'opioid_ndcs.csv'\n"
     ]
    }
   ],
   "source": [
    "codes = pd.read_csv(\"codes.csv\", dtype={'NPI': str}, encoding=\"ISO-8859-1\")\n",
    "print(codes.columns)\n",
    "df_opioids = codes[codes[\"pharmclas\"].str.contains(\"opioid agonist\", case=False, na=False)]\n",
    "opioid_ndcs = df_opioids[[\"ndc\"]].drop_duplicates()\n",
    "opioid_ndcs.to_csv(\"opioid_ndcs.csv\", index=False)\n",
    "print(\"Opioid NDCs extracted and saved as 'opioid_ndcs.csv'\")"
   ]
  },
  {
   "cell_type": "code",
   "execution_count": 28,
   "metadata": {},
   "outputs": [
    {
     "name": "stderr",
     "output_type": "stream",
     "text": [
      "/var/folders/0n/fdwzy91j2j38zqkrjnq3yc040000gn/T/ipykernel_23288/1131647889.py:7: FutureWarning: A value is trying to be set on a copy of a DataFrame or Series through chained assignment using an inplace method.\n",
      "The behavior will change in pandas 3.0. This inplace method will never work because the intermediate object on which we are setting values always behaves as a copy.\n",
      "\n",
      "For example, when doing 'df[col].method(value, inplace=True)', try using 'df.method({col: value}, inplace=True)' or df[col] = df[col].method(value) instead, to perform the operation inplace on the original object.\n",
      "\n",
      "\n",
      "  df_merged[\"Total_Opioid_Claims\"].fillna(0, inplace=True)\n",
      "/var/folders/0n/fdwzy91j2j38zqkrjnq3yc040000gn/T/ipykernel_23288/1131647889.py:8: FutureWarning: A value is trying to be set on a copy of a DataFrame or Series through chained assignment using an inplace method.\n",
      "The behavior will change in pandas 3.0. This inplace method will never work because the intermediate object on which we are setting values always behaves as a copy.\n",
      "\n",
      "For example, when doing 'df[col].method(value, inplace=True)', try using 'df.method({col: value}, inplace=True)' or df[col] = df[col].method(value) instead, to perform the operation inplace on the original object.\n",
      "\n",
      "\n",
      "  df_merged[\"Unique_Opioid_Drugs\"].fillna(0, inplace=True)\n"
     ]
    }
   ],
   "source": [
    "df_opioids_agg = df_opioids_only.groupby(\"Prscrbr_NPI\").agg(\n",
    "    Total_Opioid_Claims=(\"Tot_Clms_x\", \"sum\"),  # Total opioid prescriptions per doctor\n",
    "    Unique_Opioid_Drugs=(\"Gnrc_Name\", \"nunique\")  # Number of distinct opioids prescribed\n",
    ").reset_index()\n",
    "\n",
    "df_merged = pd.merge(df_prescribers, df_opioids_agg, on=\"Prscrbr_NPI\", how=\"left\")\n",
    "df_merged[\"Total_Opioid_Claims\"].fillna(0, inplace=True)\n",
    "df_merged[\"Unique_Opioid_Drugs\"].fillna(0, inplace=True)\n",
    "\n",
    "df_specialty_stats = df_merged.groupby(\"Prscrbr_Type\")[\"Total_Opioid_Claims\"].agg(['mean', 'std']).reset_index()\n",
    "df_specialty_stats.rename(columns={'mean': 'Specialty_Mean_Opioid_Claims', 'std': 'Specialty_Std_Opioid_Claims'}, inplace=True)\n",
    "\n",
    "df_merged = pd.merge(df_merged, df_specialty_stats, on=\"Prscrbr_Type\", how=\"left\")\n",
    "\n",
    "df_merged[\"Opioid_Prescribing_ZScore\"] = (df_merged[\"Total_Opioid_Claims\"] - df_merged[\"Specialty_Mean_Opioid_Claims\"]) / df_merged[\"Specialty_Std_Opioid_Claims\"]\n",
    "df_merged.to_csv(\"pa_merged_opioid_specialty_adjusted.csv\", index=False)\n"
   ]
  },
  {
   "cell_type": "code",
   "execution_count": null,
   "metadata": {},
   "outputs": [
    {
     "name": "stderr",
     "output_type": "stream",
     "text": [
      "/var/folders/0n/fdwzy91j2j38zqkrjnq3yc040000gn/T/ipykernel_23288/2791430706.py:1: DtypeWarning: Columns (4,10,15,32,33,34,35,51,53,54,69,75,77,78,79,80,81,83,84,85,86,87) have mixed types. Specify dtype option on import or set low_memory=False.\n",
      "  df_payments = pd.read_csv(\"generalpaymentspa.csv\", dtype={'covered_recipient_npi': str})\n"
     ]
    }
   ],
   "source": [
    "df_payments = pd.read_csv(\"generalpaymentspa.csv\", dtype={'covered_recipient_npi': str}) \n",
    "df_opioid_ndcs = pd.read_csv(\"opioid_ndcs.csv\", dtype=str)\n",
    "opioid_ndc_set = set(df_opioid_ndcs[\"ndc\"].astype(str).str.strip())\n",
    "def is_opioid_payment(row):\n",
    "    for i in range(1, 6):  \n",
    "        ndc = str(row.get(f\"Associated_Drug_or_Biological_NDC_{i}\", \"\")) \n",
    "        if any(opioid_ndc in ndc for opioid_ndc in opioid_ndc_set):  \n",
    "            return True\n",
    "    return False\n",
    "df_payments[\"Is_Opioid_Payment\"] = df_payments.apply(is_opioid_payment, axis=1)\n",
    "df_opioid_payments = df_payments[df_payments[\"Is_Opioid_Payment\"]]\n",
    "df_opioid_payments.to_csv(\"opioid_payments_filtered.csv\", index=False)\n",
    "print(\"Filtered Open Payments data saved as 'opioid_payments_filtered.csv'\")"
   ]
  },
  {
   "cell_type": "code",
   "execution_count": 26,
   "metadata": {},
   "outputs": [
    {
     "name": "stdout",
     "output_type": "stream",
     "text": [
      "Aggregated network data saved as 'pharma_prescriber_network_data.csv'\n"
     ]
    },
    {
     "name": "stderr",
     "output_type": "stream",
     "text": [
      "/var/folders/0n/fdwzy91j2j38zqkrjnq3yc040000gn/T/ipykernel_23288/171572685.py:1: DtypeWarning: Columns (4,35,54,83,84,85,86,87) have mixed types. Specify dtype option on import or set low_memory=False.\n",
      "  df_opioid_payments = pd.read_csv(\"opioid_payments_filtered.csv\", dtype={'covered_recipient_npi': str})\n"
     ]
    }
   ],
   "source": [
    "df_opioid_payments = pd.read_csv(\"opioid_payments_filtered.csv\", dtype={'covered_recipient_npi': str})\n",
    "df_network = df_opioid_payments.groupby([\"Applicable_Manufacturer_or_Applicable_GPO_Making_Payment_Name\", \"Covered_Recipient_NPI\"]).agg(\n",
    "    Total_Opioid_Payments=(\"Total_Amount_of_Payment_USDollars\", \"sum\")\n",
    ").reset_index()\n",
    "df_network.to_csv(\"pharma_prescriber_network_data.csv\", index=False)\n",
    "print(\"Aggregated network data saved as 'pharma_prescriber_network_data.csv'\")"
   ]
  }
 ],
 "metadata": {
  "kernelspec": {
   "display_name": ".venv",
   "language": "python",
   "name": "python3"
  },
  "language_info": {
   "codemirror_mode": {
    "name": "ipython",
    "version": 3
   },
   "file_extension": ".py",
   "mimetype": "text/x-python",
   "name": "python",
   "nbconvert_exporter": "python",
   "pygments_lexer": "ipython3",
   "version": "3.11.1"
  }
 },
 "nbformat": 4,
 "nbformat_minor": 2
}
