{
 "cells": [
  {
   "cell_type": "code",
   "execution_count": 2,
   "metadata": {},
   "outputs": [],
   "source": [
    "import pandas as pd\n",
    "import numpy as np\n",
    "import networkx as nx\n",
    "from sklearn.metrics.pairwise import cosine_similarity\n",
    "\n",
    "df_prescribers = pd.read_csv(\"pa2017.csv\", dtype={'NPI': str})  # 1 row per dr\n",
    "df_drugs = pd.read_csv(\"padrugs2017.csv\", dtype={'NPI': str})  # 1 row per dr/drug\n",
    "df_opioids = pd.read_csv(\"druggeographypa.csv\", dtype={'Gnrc_Name': str})  # classify\n",
    "\n",
    "df_drugs = df_drugs.merge(df_opioids, on=\"Gnrc_Name\", how=\"left\")  # Add opioid classification to drug data\n",
    "df_opioids_only = df_drugs[df_drugs[\"Opioid_Drug_Flag\"] == 'Y']  # Keep only opioid drugs"
   ]
  },
  {
   "cell_type": "code",
   "execution_count": 3,
   "metadata": {},
   "outputs": [
    {
     "name": "stdout",
     "output_type": "stream",
     "text": [
      "Index(['prodid', 'ndc', 'prodtype', 'propname', 'propsuf', 'npropname',\n",
      "       'dosename', 'routename', 'stmarkdatestr', 'stmarkdate',\n",
      "       'endmarkdatestr', 'endmarkdate', 'markname', 'appnum', 'labelname',\n",
      "       'subname', 'actnumstr', 'actingunit', 'pharmclas', 'deasched',\n",
      "       'ndc_exclude_flag', 'listing_record_certstr', 'listing_record_cert'],\n",
      "      dtype='object')\n",
      "Opioid NDCs extracted and saved as 'opioid_ndcs.csv'\n"
     ]
    },
    {
     "name": "stderr",
     "output_type": "stream",
     "text": [
      "/var/folders/0n/fdwzy91j2j38zqkrjnq3yc040000gn/T/ipykernel_1058/1712877063.py:1: DtypeWarning: Columns (8) have mixed types. Specify dtype option on import or set low_memory=False.\n",
      "  codes = pd.read_csv(\"codes.csv\", dtype={'NPI': str}, encoding=\"ISO-8859-1\")\n"
     ]
    }
   ],
   "source": [
    "codes = pd.read_csv(\"codes.csv\", dtype={'NPI': str}, encoding=\"ISO-8859-1\")\n",
    "print(codes.columns)\n",
    "df_opioids = codes[codes[\"pharmclas\"].str.contains(\"opioid agonist\", case=False, na=False)]\n",
    "opioid_ndcs = df_opioids[[\"ndc\"]].drop_duplicates()\n",
    "opioid_ndcs.to_csv(\"opioid_ndcs.csv\", index=False)\n",
    "print(\"Opioid NDCs extracted and saved as 'opioid_ndcs.csv'\")"
   ]
  },
  {
   "cell_type": "code",
   "execution_count": 4,
   "metadata": {},
   "outputs": [
    {
     "name": "stderr",
     "output_type": "stream",
     "text": [
      "/var/folders/0n/fdwzy91j2j38zqkrjnq3yc040000gn/T/ipykernel_1058/1131647889.py:7: FutureWarning: A value is trying to be set on a copy of a DataFrame or Series through chained assignment using an inplace method.\n",
      "The behavior will change in pandas 3.0. This inplace method will never work because the intermediate object on which we are setting values always behaves as a copy.\n",
      "\n",
      "For example, when doing 'df[col].method(value, inplace=True)', try using 'df.method({col: value}, inplace=True)' or df[col] = df[col].method(value) instead, to perform the operation inplace on the original object.\n",
      "\n",
      "\n",
      "  df_merged[\"Total_Opioid_Claims\"].fillna(0, inplace=True)\n",
      "/var/folders/0n/fdwzy91j2j38zqkrjnq3yc040000gn/T/ipykernel_1058/1131647889.py:8: FutureWarning: A value is trying to be set on a copy of a DataFrame or Series through chained assignment using an inplace method.\n",
      "The behavior will change in pandas 3.0. This inplace method will never work because the intermediate object on which we are setting values always behaves as a copy.\n",
      "\n",
      "For example, when doing 'df[col].method(value, inplace=True)', try using 'df.method({col: value}, inplace=True)' or df[col] = df[col].method(value) instead, to perform the operation inplace on the original object.\n",
      "\n",
      "\n",
      "  df_merged[\"Unique_Opioid_Drugs\"].fillna(0, inplace=True)\n"
     ]
    }
   ],
   "source": [
    "df_opioids_agg = df_opioids_only.groupby(\"Prscrbr_NPI\").agg(\n",
    "    Total_Opioid_Claims=(\"Tot_Clms_x\", \"sum\"),  # Total opioid prescriptions per doctor\n",
    "    Unique_Opioid_Drugs=(\"Gnrc_Name\", \"nunique\")  # Number of distinct opioids prescribed\n",
    ").reset_index()\n",
    "\n",
    "df_merged = pd.merge(df_prescribers, df_opioids_agg, on=\"Prscrbr_NPI\", how=\"left\")\n",
    "df_merged[\"Total_Opioid_Claims\"].fillna(0, inplace=True)\n",
    "df_merged[\"Unique_Opioid_Drugs\"].fillna(0, inplace=True)\n",
    "\n",
    "df_specialty_stats = df_merged.groupby(\"Prscrbr_Type\")[\"Total_Opioid_Claims\"].agg(['mean', 'std']).reset_index()\n",
    "df_specialty_stats.rename(columns={'mean': 'Specialty_Mean_Opioid_Claims', 'std': 'Specialty_Std_Opioid_Claims'}, inplace=True)\n",
    "\n",
    "df_merged = pd.merge(df_merged, df_specialty_stats, on=\"Prscrbr_Type\", how=\"left\")\n",
    "\n",
    "df_merged[\"Opioid_Prescribing_ZScore\"] = (df_merged[\"Total_Opioid_Claims\"] - df_merged[\"Specialty_Mean_Opioid_Claims\"]) / df_merged[\"Specialty_Std_Opioid_Claims\"]\n",
    "df_merged.to_csv(\"pa_merged_opioid_specialty_adjusted.csv\", index=False)\n"
   ]
  },
  {
   "cell_type": "code",
   "execution_count": 5,
   "metadata": {},
   "outputs": [
    {
     "name": "stderr",
     "output_type": "stream",
     "text": [
      "/var/folders/0n/fdwzy91j2j38zqkrjnq3yc040000gn/T/ipykernel_1058/2791430706.py:1: DtypeWarning: Columns (4,10,15,32,33,34,35,51,53,54,69,75,77,78,79,80,81,83,84,85,86,87) have mixed types. Specify dtype option on import or set low_memory=False.\n",
      "  df_payments = pd.read_csv(\"generalpaymentspa.csv\", dtype={'covered_recipient_npi': str})\n"
     ]
    },
    {
     "name": "stdout",
     "output_type": "stream",
     "text": [
      "Filtered Open Payments data saved as 'opioid_payments_filtered.csv'\n"
     ]
    }
   ],
   "source": [
    "df_payments = pd.read_csv(\"generalpaymentspa.csv\", dtype={'covered_recipient_npi': str}) \n",
    "df_opioid_ndcs = pd.read_csv(\"opioid_ndcs.csv\", dtype=str)\n",
    "opioid_ndc_set = set(df_opioid_ndcs[\"ndc\"].astype(str).str.strip())\n",
    "def is_opioid_payment(row):\n",
    "    for i in range(1, 6):  \n",
    "        ndc = str(row.get(f\"Associated_Drug_or_Biological_NDC_{i}\", \"\")) \n",
    "        if any(opioid_ndc in ndc for opioid_ndc in opioid_ndc_set):  \n",
    "            return True\n",
    "    return False\n",
    "df_payments[\"Is_Opioid_Payment\"] = df_payments.apply(is_opioid_payment, axis=1)\n",
    "df_opioid_payments = df_payments[df_payments[\"Is_Opioid_Payment\"]]\n",
    "df_opioid_payments.to_csv(\"opioid_payments_filtered.csv\", index=False)\n",
    "print(\"Filtered Open Payments data saved as 'opioid_payments_filtered.csv'\")"
   ]
  },
  {
   "cell_type": "code",
   "execution_count": 6,
   "metadata": {},
   "outputs": [
    {
     "name": "stdout",
     "output_type": "stream",
     "text": [
      "Aggregated network data saved as 'pharma_prescriber_network_data.csv'\n"
     ]
    },
    {
     "name": "stderr",
     "output_type": "stream",
     "text": [
      "/var/folders/0n/fdwzy91j2j38zqkrjnq3yc040000gn/T/ipykernel_1058/171572685.py:1: DtypeWarning: Columns (4,35,51,54,77,78,79,80,81,83,84,85,86,87) have mixed types. Specify dtype option on import or set low_memory=False.\n",
      "  df_opioid_payments = pd.read_csv(\"opioid_payments_filtered.csv\", dtype={'covered_recipient_npi': str})\n"
     ]
    }
   ],
   "source": [
    "df_opioid_payments = pd.read_csv(\"opioid_payments_filtered.csv\", dtype={'covered_recipient_npi': str})\n",
    "df_network = df_opioid_payments.groupby([\"Applicable_Manufacturer_or_Applicable_GPO_Making_Payment_Name\", \"Covered_Recipient_NPI\"]).agg(\n",
    "    Total_Opioid_Payments=(\"Total_Amount_of_Payment_USDollars\", \"sum\")\n",
    ").reset_index()\n",
    "df_network.to_csv(\"pharma_prescriber_network_data.csv\", index=False)\n",
    "print(\"Aggregated network data saved as 'pharma_prescriber_network_data.csv'\")"
   ]
  },
  {
   "cell_type": "code",
   "execution_count": 7,
   "metadata": {},
   "outputs": [
    {
     "name": "stdout",
     "output_type": "stream",
     "text": [
      "Network constructed and saved as 'pharma_prescriber_network.gml'\n"
     ]
    }
   ],
   "source": [
    "df_network = pd.read_csv(\"pharma_prescriber_network_data.csv\", dtype={'Covered_Recipient_NPI': str})\n",
    "G = nx.DiGraph()\n",
    "pharma_nodes = df_network[\"Applicable_Manufacturer_or_Applicable_GPO_Making_Payment_Name\"].unique()\n",
    "prescriber_nodes = df_network[\"Covered_Recipient_NPI\"].unique()\n",
    "G.add_nodes_from(pharma_nodes, bipartite=0)  # Group 0: Pharma companies\n",
    "G.add_nodes_from(prescriber_nodes, bipartite=1)  # Group 1: Prescribers\n",
    "for _, row in df_network.iterrows():\n",
    "    G.add_edge(row[\"Applicable_Manufacturer_or_Applicable_GPO_Making_Payment_Name\"], \n",
    "               row[\"Covered_Recipient_NPI\"], \n",
    "               weight=row[\"Total_Opioid_Payments\"])\n",
    "nx.write_gml(G, \"pharma_prescriber_network.gml\")\n",
    "print(\"Network constructed and saved as 'pharma_prescriber_network.gml'\")"
   ]
  },
  {
   "cell_type": "code",
   "execution_count": null,
   "metadata": {},
   "outputs": [
    {
     "data": {
      "image/png": "[encoded data removed]",
      "text/plain": [
       "<Figure size 640x480 with 1 Axes>"
      ]
     },
     "metadata": {},
     "output_type": "display_data"
    },
    {
     "name": "stdout",
     "output_type": "stream",
     "text": [
      "Total pharmaceutical companies: 24\n",
      "Total doctors: 2026\n"
     ]
    }
   ],
   "source": [
    "import matplotlib.pyplot as plt\n",
    "from networkx.algorithms import bipartite\n",
    "\n",
    "left_nodes = {n for n, d in G.nodes(data=True) if d.get(\"bipartite\") == 0}\n",
    "right_nodes = set(G) - left_nodes\n",
    "pos = dict()\n",
    "pos.update((n, (1, i)) for i, n in enumerate(left_nodes))\n",
    "pos.update((n, (2, i)) for i, n in enumerate(right_nodes))\n",
    "nx.draw(G, pos, with_labels=False, node_color=['skyblue' if n in left_nodes else 'lightgreen' for n in G.nodes()])\n",
    "plt.show()\n",
    "\n",
    "pharma_nodes = {n for n, d in G.nodes(data=True) if d.get(\"bipartite\") == 0}\n",
    "doctor_nodes = {n for n, d in G.nodes(data=True) if d.get(\"bipartite\") == 1}\n",
    "\n",
    "print(f\"Total pharmaceutical companies: {len(pharma_nodes)}\")\n",
    "print(f\"Total doctors: {len(doctor_nodes)}\")"
   ]
  },
  {
   "cell_type": "code",
   "execution_count": 32,
   "metadata": {},
   "outputs": [
    {
     "name": "stdout",
     "output_type": "stream",
     "text": [
      "Collegium Pharmaceutical, Inc.: 0.1422\n",
      "Braeburn Pharmaceuticals, Inc.: 0.0395\n",
      "Daiichi Sankyo Inc.: 0.1037\n",
      "Endo Pharmaceuticals Inc.: 0.0015\n",
      "Mission Pharmacal Company: 0.0104\n",
      "Indivior Inc.: 0.1624\n",
      "Vertical Pharmaceuticals, LLC: 0.0370\n",
      "INSYS Therapeutics Inc: 0.0997\n",
      "Purdue Pharma L.P.: 0.4768\n",
      "Depomed, Inc.: 0.2878\n",
      "Orexo US, Inc.: 0.0582\n",
      "Mylan Institutional Inc.: 0.0039\n",
      "Mallinckrodt LLC: 0.0010\n",
      "Purdue Transdermal Technologies L.P.: 0.0005\n",
      "The Medicines Company: 0.0138\n",
      "BioDelivery Sciences International, Inc.: 0.0647\n",
      "Egalet US Inc: 0.0582\n",
      "Mylan Pharmaceuticals Inc.: 0.0123\n",
      "Fresenius Kabi USA, LLC: 0.0005\n",
      "Akrimax Pharmaceuticals, LLC: 0.0064\n",
      "Mylan Specialty L.P.: 0.0227\n",
      "Sentynl Therapeutics, Inc.: 0.0311\n",
      "Pernix Therapeutics Holdings, Inc.: 0.1022\n",
      "PFIZER INC.: 0.0933\n"
     ]
    }
   ],
   "source": [
    "pharma_nodes = {n for n, d in G.nodes(data=True) if d.get(\"bipartite\") == 0}\n",
    "centrality = bipartite.degree_centrality(G, pharma_nodes)\n",
    "pharma_centrality = {n: c for n, c in centrality.items() if n in pharma_nodes}\n",
    "for node, centrality_score in pharma_centrality.items():\n",
    "    print(f\"{node}: {centrality_score:.4f}\")"
   ]
  },
  {
   "cell_type": "code",
   "execution_count": 33,
   "metadata": {},
   "outputs": [],
   "source": [
    "doctor_nodes = {n for n, d in G.nodes(data=True) if d.get(\"bipartite\") == 1}\n",
    "centrality = bipartite.degree_centrality(G, doctor_nodes)\n",
    "doctor_centrality = {n: c for n, c in centrality.items() if n in doctor_nodes}\n",
    "df = pd.DataFrame.from_dict(doctor_centrality, orient='index', columns=['degree_centrality'])\n",
    "df.index.name = 'doctor_id' \n",
    "df.to_csv(\"doctor_degree_centrality.csv\")"
   ]
  }
 ],
 "metadata": {
  "kernelspec": {
   "display_name": ".venv",
   "language": "python",
   "name": "python3"
  },
  "language_info": {
   "codemirror_mode": {
    "name": "ipython",
    "version": 3
   },
   "file_extension": ".py",
   "mimetype": "text/x-python",
   "name": "python",
   "nbconvert_exporter": "python",
   "pygments_lexer": "ipython3",
   "version": "3.11.1"
  }
 },
 "nbformat": 4,
 "nbformat_minor": 2
}
